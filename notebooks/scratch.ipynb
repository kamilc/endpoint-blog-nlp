{
 "cells": [
  {
   "cell_type": "markdown",
   "metadata": {},
   "source": [
    "Let's first download the data:"
   ]
  },
  {
   "cell_type": "code",
   "execution_count": 12,
   "metadata": {},
   "outputs": [
    {
     "name": "stdout",
     "output_type": "stream",
     "text": [
      "data already downloaded\n"
     ]
    }
   ],
   "source": [
    "%%bash\n",
    "\n",
    "if [ -f 'data/blog.zip' ]; then\n",
    "  echo 'data already downloaded'\n",
    "else\n",
    "  wget 'https://github.com/EndPointCorp/end-point-blog/archive/master.zip' -O 'data/blog.zip'\n",
    "  unzip 'data/blog.zip' -d 'data/'\n",
    "fi"
   ]
  },
  {
   "cell_type": "code",
   "execution_count": 13,
   "metadata": {},
   "outputs": [],
   "source": [
    "from glob import glob"
   ]
  },
  {
   "cell_type": "code",
   "execution_count": 94,
   "metadata": {},
   "outputs": [],
   "source": [
    "import re"
   ]
  },
  {
   "cell_type": "code",
   "execution_count": 19,
   "metadata": {},
   "outputs": [],
   "source": [
    "files = glob('data/**/**/**/**/*.md')"
   ]
  },
  {
   "cell_type": "code",
   "execution_count": 97,
   "metadata": {},
   "outputs": [
    {
     "data": {
      "text/plain": [
       "['data/end-point-blog-master/2019/06/01/vue-remote-devtools-review.html.md',\n",
       " 'data/end-point-blog-master/2019/06/11/cloudflare-vue-ssr-significant-comments.html.md',\n",
       " 'data/end-point-blog-master/2019/01/09/liquid-galaxy-at-instituto-moreira-salles.html.md',\n",
       " 'data/end-point-blog-master/2019/01/31/adding-awesomplete-to-vue-components.html.md',\n",
       " 'data/end-point-blog-master/2019/01/08/speech-recognition-with-tensorflow.html.md',\n",
       " 'data/end-point-blog-master/2019/01/23/migrate-from-sql-server-to-postgresql.html.md',\n",
       " 'data/end-point-blog-master/2019/01/03/switching-postgresql-wal-based-backup-options.html.md',\n",
       " 'data/end-point-blog-master/2019/04/04/rails-development-in-windows-10-pro-with-visual-studio-code-and-wsl.html.md',\n",
       " 'data/end-point-blog-master/2019/04/18/linux-sysadmin-devops-remote-job.html.md',\n",
       " 'data/end-point-blog-master/2019/04/30/postfix-gmail-forwarder.html.md',\n",
       " 'data/end-point-blog-master/2019/02/12/where-are-you-with-windows-2019.html.md',\n",
       " 'data/end-point-blog-master/2019/02/28/converting-graphql-ruby-resolvers-to-the-class-based-api.html.md',\n",
       " 'data/end-point-blog-master/2019/02/05/camping-in-the-clouds.html.md',\n",
       " 'data/end-point-blog-master/2019/02/27/owasp-top-ten-application-security-risks.html.md',\n",
       " 'data/end-point-blog-master/2019/02/15/volunteer-while-you-work-from-home.html.md',\n",
       " 'data/end-point-blog-master/2019/05/01/facial-recognition-amazon-deeplens.html.md',\n",
       " 'data/end-point-blog-master/2019/05/02/introduction-to-snapshot-testing-vue-components.html.md',\n",
       " 'data/end-point-blog-master/2019/05/11/graphql-an-alternative-to-rest.html.md',\n",
       " 'data/end-point-blog-master/2019/05/03/linuxfest-northwest.html.md',\n",
       " 'data/end-point-blog-master/2019/03/22/running-magento-2-windows-xampp.html.md',\n",
       " 'data/end-point-blog-master/2019/03/29/eliminating-resolvers-in-graphql-ruby.html.md',\n",
       " 'data/end-point-blog-master/2019/03/18/extensible-binary-encoding-with-cbor.html.md',\n",
       " 'data/end-point-blog-master/2019/03/13/the-flow-of-hierarchical-data-extraction.html.md',\n",
       " 'data/end-point-blog-master/2019/03/25/thoughts-on-project-estimation.html.md',\n",
       " 'data/end-point-blog-master/2019/03/23/switching-google-maps-leaflet.html.md']"
      ]
     },
     "execution_count": 97,
     "metadata": {},
     "output_type": "execute_result"
    }
   ],
   "source": [
    "pattern = re.compile(\".*2019.*\")\n",
    "[f for f in files if pattern.match(f)]"
   ]
  },
  {
   "cell_type": "code",
   "execution_count": 22,
   "metadata": {},
   "outputs": [],
   "source": [
    "import io"
   ]
  },
  {
   "cell_type": "code",
   "execution_count": 23,
   "metadata": {},
   "outputs": [],
   "source": [
    "def read_file(path):\n",
    "    result = \"\"\n",
    "    with io.open(path, \"r\", encoding=\"utf-8\") as file:\n",
    "        result = file.read()\n",
    "    return result"
   ]
  },
  {
   "cell_type": "code",
   "execution_count": 24,
   "metadata": {},
   "outputs": [],
   "source": [
    "contents = [read_file(path) for path in files]"
   ]
  },
  {
   "cell_type": "code",
   "execution_count": 26,
   "metadata": {},
   "outputs": [
    {
     "data": {
      "text/plain": [
       "'---\\nauthor: Jon Jensen\\ngh_issue_number: 6\\ntags: interchange\\ntitle: Interchange 5.4 Released\\n---\\n\\nAt the end of December 2005, a new major version of [Interchange](/technology/perl-interchange) was released, making widely available the improvements developed over the previous year and a half.\\n\\nWhile many of the hundreds of important changes are small and incremental, Interchange 5.4 offers a number of larger improvements as well:\\n\\n- Improved pre-fork server model supports higher traffic.\\n\\n- Extensible architecture improvements allow more customization (Feature, AccumulateCode, TagRepository, DispatchRoutines).\\n\\n- Shopping cart triggers have been added, for easier control over complex shopping cart behaviors.\\n\\n- Multiple \"discount spaces\" may be defined, for complex discounting schemes.\\n\\n- The \"permanent more\" facility allows shared pageable searches, for reduced database load and paging disk space.\\n\\n- The email interception feature reroutes outgoing email to one or more developer addresses, stopping email from accidentally going to real users during testing.\\n\\n- Quicker development of email functions using HTML parts or attached files.\\n\\n- A new demo application, called \"Standard\", was added.\\n\\n- Access to loop data in embedded Perl is now easier with the new $Row object.\\n\\n- User-defined subroutines can be accessed more ways with the new $Sub object.\\n\\n- More payment gateways are supported, including an interface to CPAN\\'s Business::OnlinePayment.\\n\\n- More languages are supported in the admin area.\\n\\n- ... and many other feature enhancements and bugfixes.\\n\\nEthan Rowe and [Jon Jensen](/team/jon_jensen), two End Point engineers and members of the Interchange Development Group, added several of these new features based on work done earlier for our clients. We value highly the whole Interchange team\\'s commitment to stability and reliability in the code, and cooperation and ongoing improvement together. In particular we appreciate the efforts of Mike Heins, Stefan Hornburg, and Davor Ocelic, whose regular contributions make Interchange\\'s progress impressive. And Interchange would be weaker without the valuable work of Kevin Walsh, Ton Verhagen, Jonathan Clark, Dan Browning, Paul Vinciguerra, Ed LaFrance, and others.\\n\\nWe look forward to seeing this latest and greatest version of Interchange being used by the wider Interchange community.\\n'"
      ]
     },
     "execution_count": 26,
     "metadata": {},
     "output_type": "execute_result"
    }
   ],
   "source": [
    "contents[2]"
   ]
  },
  {
   "cell_type": "code",
   "execution_count": 52,
   "metadata": {},
   "outputs": [],
   "source": [
    "def prune_front_matter(text):\n",
    "    lines = text.split(\"\\n\")\n",
    "    seen = 0\n",
    "    \n",
    "    for ix, line in enumerate(lines):\n",
    "        if line == '---':\n",
    "            if seen == 1:\n",
    "                return \"\\n\".join(lines[(ix+1):]).strip()\n",
    "            else:\n",
    "                seen += 1"
   ]
  },
  {
   "cell_type": "code",
   "execution_count": 142,
   "metadata": {},
   "outputs": [],
   "source": [
    "def remove_code(text):\n",
    "    return re.sub(r'==##==', \"\\n\", re.sub(r'```.*```', '' , re.sub(r'\\n', '==##==', text)))"
   ]
  },
  {
   "cell_type": "code",
   "execution_count": 143,
   "metadata": {},
   "outputs": [],
   "source": [
    "texts = [remove_code(prune_front_matter(text)).lower() for text in contents]"
   ]
  },
  {
   "cell_type": "code",
   "execution_count": 144,
   "metadata": {},
   "outputs": [],
   "source": [
    "import pandas as pd"
   ]
  },
  {
   "cell_type": "code",
   "execution_count": 145,
   "metadata": {},
   "outputs": [],
   "source": [
    "articles = pd.DataFrame({ 'file': [\"/\".join(p.split(\"/\")[2:]) for p in files], 'text': texts })"
   ]
  },
  {
   "cell_type": "code",
   "execution_count": 146,
   "metadata": {},
   "outputs": [
    {
     "data": {
      "text/html": [
       "<div>\n",
       "<style scoped>\n",
       "    .dataframe tbody tr th:only-of-type {\n",
       "        vertical-align: middle;\n",
       "    }\n",
       "\n",
       "    .dataframe tbody tr th {\n",
       "        vertical-align: top;\n",
       "    }\n",
       "\n",
       "    .dataframe thead th {\n",
       "        text-align: right;\n",
       "    }\n",
       "</style>\n",
       "<table border=\"1\" class=\"dataframe\">\n",
       "  <thead>\n",
       "    <tr style=\"text-align: right;\">\n",
       "      <th></th>\n",
       "      <th>file</th>\n",
       "      <th>text</th>\n",
       "    </tr>\n",
       "  </thead>\n",
       "  <tbody>\n",
       "    <tr>\n",
       "      <th>0</th>\n",
       "      <td>2006/06/20/review-practices-of-agile-developer...</td>\n",
       "      <td>**practices of an agile developer by venkat su...</td>\n",
       "    </tr>\n",
       "    <tr>\n",
       "      <th>1</th>\n",
       "      <td>2006/06/16/trouble-with-mysql-41-under-heavy-l...</td>\n",
       "      <td>two of our customers running high-traffic webs...</td>\n",
       "    </tr>\n",
       "    <tr>\n",
       "      <th>2</th>\n",
       "      <td>2006/01/07/interchange-54-released.html.md</td>\n",
       "      <td>at the end of december 2005, a new major versi...</td>\n",
       "    </tr>\n",
       "    <tr>\n",
       "      <th>3</th>\n",
       "      <td>2006/02/01/end-points-new-hq.html.md</td>\n",
       "      <td>we've moved! to help accommodate our company's...</td>\n",
       "    </tr>\n",
       "    <tr>\n",
       "      <th>4</th>\n",
       "      <td>2006/02/01/end-point-launches-new-website.html.md</td>\n",
       "      <td>end point rang in the new year with a brand ne...</td>\n",
       "    </tr>\n",
       "    <tr>\n",
       "      <th>5</th>\n",
       "      <td>2006/02/01/postgresql-master-joins-crew.html.md</td>\n",
       "      <td>greg sabino mullane joined end point in octobe...</td>\n",
       "    </tr>\n",
       "    <tr>\n",
       "      <th>6</th>\n",
       "      <td>2006/07/11/yapcna-2006-conference-report.html.md</td>\n",
       "      <td>end pointers jon jensen and i, along with 450-...</td>\n",
       "    </tr>\n",
       "    <tr>\n",
       "      <th>7</th>\n",
       "      <td>2006/05/08/postgresql-supports-two-phase-commi...</td>\n",
       "      <td>the recent release of the 8.1 version of postg...</td>\n",
       "    </tr>\n",
       "    <tr>\n",
       "      <th>8</th>\n",
       "      <td>2006/05/26/interchange-541-released.html.md</td>\n",
       "      <td>interchange 5.4.1 was released today. this is ...</td>\n",
       "    </tr>\n",
       "    <tr>\n",
       "      <th>9</th>\n",
       "      <td>2010/09/09/reducing-bloat-without-locking.html.md</td>\n",
       "      <td>it’s not altogether uncommon to find a databas...</td>\n",
       "    </tr>\n",
       "  </tbody>\n",
       "</table>\n",
       "</div>"
      ],
      "text/plain": [
       "                                                file  \\\n",
       "0  2006/06/20/review-practices-of-agile-developer...   \n",
       "1  2006/06/16/trouble-with-mysql-41-under-heavy-l...   \n",
       "2         2006/01/07/interchange-54-released.html.md   \n",
       "3               2006/02/01/end-points-new-hq.html.md   \n",
       "4  2006/02/01/end-point-launches-new-website.html.md   \n",
       "5    2006/02/01/postgresql-master-joins-crew.html.md   \n",
       "6   2006/07/11/yapcna-2006-conference-report.html.md   \n",
       "7  2006/05/08/postgresql-supports-two-phase-commi...   \n",
       "8        2006/05/26/interchange-541-released.html.md   \n",
       "9  2010/09/09/reducing-bloat-without-locking.html.md   \n",
       "\n",
       "                                                text  \n",
       "0  **practices of an agile developer by venkat su...  \n",
       "1  two of our customers running high-traffic webs...  \n",
       "2  at the end of december 2005, a new major versi...  \n",
       "3  we've moved! to help accommodate our company's...  \n",
       "4  end point rang in the new year with a brand ne...  \n",
       "5  greg sabino mullane joined end point in octobe...  \n",
       "6  end pointers jon jensen and i, along with 450-...  \n",
       "7  the recent release of the 8.1 version of postg...  \n",
       "8  interchange 5.4.1 was released today. this is ...  \n",
       "9  it’s not altogether uncommon to find a databas...  "
      ]
     },
     "execution_count": 146,
     "metadata": {},
     "output_type": "execute_result"
    }
   ],
   "source": [
    "articles.head(10)"
   ]
  },
  {
   "cell_type": "code",
   "execution_count": 128,
   "metadata": {},
   "outputs": [
    {
     "data": {
      "text/plain": [
       "'i’ve been working with cassandra and eventmachine lately, in an attempt to maximize write throughput for bulk loading situations (and i would prefer to not abandon the pretty ruby classes i have fronting cassandra, hence eventmachine rather than hopping over to java or scala).\\n\\nthe thrift client transport for eventmachine requires the use of fibers. the documentation available for how fibers and eventmachine interact is not all that clear just yet, so perhaps documenting my adventures will be of use to somebody else.\\n\\n### a single fiber is traditionally imperative\\n\\neventmachine puts the i/o on background threads, but your use of the i/o interface will interact with it as if it’s a traditional blocking operation.\\n\\n```ruby\\n#!/usr/bin/env ruby\\n\\nrequire \\'eventmachine\\'\\nrequire \\'thrift_client\\'\\nrequire \\'thrift_client/event_machine\\'\\nrequire \\'cassandra\\'\\n\\ndef get_client \\n  cassandra.new(\\'keyspace1\\',\\n                \\'127.0.0.1:9160\\',\\n                :transport_wrapper => nil,\\n                :transport         => thrift::eventmachinetransport)\\nend\\n\\ndef write(client, key, hash)\\n  puts \"writing #{key}.\"\\n  client.insert(\\'standard1\\', key, hash)\\n  puts \"wrote #{key}.\"\\nend\\n\\nem.run do\\n  fiber.new do\\n    client = get_client\\n    write(client, \\'foo\\', {\\'aard\\' => \\'vark\\'})\\n    write(client, \\'bar\\', {\\'platy\\' => \\'pus\\'})\\n    em.stop\\n  end.resume\\nend\\n```\\n\\nthe thrift::eventmachine transport performs the actual thrift network operations (connecting, sending data, receiving data) on a fiber in one of eventmachine’s background threads. but it manages the callbacks and errbacks internally so the client behaves in usual blocking manner and does not expose the asyncronous delights going on behind the scenes.\\n\\ntherefore, in the code snippet above, the “foo” row will be inserted first, and then the “bar” row. every time. the output always is:\\n\\n```nohighlight\\nwrote foo.\\nwrote bar.\\n```\\n\\nthe above snippet is contrived, but it makes an import point: given two or more thrift operations (like cassandra inserts) that are logically independent of each other such that their order does not matter, you’re not necessarily gaining a lot if those operations happen in the same fiber.\\n\\n### for concurrency, use multiple fibers\\n\\nnow let’s replace the above code sample’s em.run block with this:\\n\\n```ruby\\nem.run do\\n  @done = 0 \\n  fiber.new do\\n    write(get_client, \\'foo\\', {\\'aard\\' => \\'vark\\'})\\n    @done += 1\\n  end.resume\\n  fiber.new do\\n    write(get_client, \\'bar\\', {\\'platy\\' => \\'pus\\'})\\n    @done += 1                 \\n  end.resume                   \\n  em.add_periodic_timer(1) { em.stop if @done == 2 } \\nend\\n```\\n\\nyou don’t know how this is going to play out, but the typical output proves the concurrent operation of the two fibers involved:\\n```nohighlight\\nwriting foo.\\nwriting bar.\\nwrote foo.\\nwrote bar.\\n```\\n\\nif we were writing a larger number of rows out to cassandra, we could expect to see a greater variety of interleaving between the respective fibers.\\n\\nnote a critical difference between the two examples. in the single-fiber example, we issue the em.stop as the final step of the fiber. because the single fiber proceeds serially, this makes sense. in the multi-fiber example, things run asyncronously, so we have no way of knowing for sure which fiber will complete first. consequently, it’s necessary have some means of signifying that work is done and the em can stop; in this lame example, the @done instance variable acts as this flag. in a more rigorous example, you might use a queue and a queue’s size to organize such things.'"
      ]
     },
     "execution_count": 128,
     "metadata": {},
     "output_type": "execute_result"
    }
   ],
   "source": [
    "articles['text'][100]"
   ]
  },
  {
   "cell_type": "code",
   "execution_count": 129,
   "metadata": {},
   "outputs": [
    {
     "name": "stdout",
     "output_type": "stream",
     "text": [
      "\u001b[33mWARNING: The directory '/home/kamil/.cache/pip/http' or its parent directory is not owned by the current user and the cache has been disabled. Please check the permissions and owner of that directory. If executing pip with sudo, you may want sudo's -H flag.\u001b[0m\n",
      "\u001b[33mWARNING: The directory '/home/kamil/.cache/pip' or its parent directory is not owned by the current user and caching wheels has been disabled. check the permissions and owner of that directory. If executing pip with sudo, you may want sudo's -H flag.\u001b[0m\n",
      "Collecting commonmark\n",
      "\u001b[?25l  Downloading https://files.pythonhosted.org/packages/a7/65/2ea45a38e8c6a0a13453c5cadcc9b725049425c8628dbe7da87b30944573/commonmark-0.9.0-py2.py3-none-any.whl (51kB)\n",
      "\u001b[K     |################################| 51kB 645kB/s \n",
      "\u001b[?25hCollecting future (from commonmark)\n",
      "\u001b[?25l  Downloading https://files.pythonhosted.org/packages/90/52/e20466b85000a181e1e144fd8305caf2cf475e2f9674e797b222f8105f5f/future-0.17.1.tar.gz (829kB)\n",
      "\u001b[K     |################################| 829kB 1.5MB/s \n",
      "\u001b[?25hBuilding wheels for collected packages: future\n",
      "  Building wheel for future (setup.py) ... \u001b[?25ldone\n",
      "\u001b[?25h  Stored in directory: /home/kamil/.cache/pip/wheels/0c/61/d2/d6b7317325828fbb39ee6ad559dbe4664d0896da4721bf379e\n",
      "Successfully built future\n",
      "Installing collected packages: future, commonmark\n",
      "Successfully installed commonmark-0.9.0 future-0.17.1\n"
     ]
    }
   ],
   "source": [
    "! pip3 install commonmark"
   ]
  },
  {
   "cell_type": "code",
   "execution_count": 130,
   "metadata": {},
   "outputs": [],
   "source": [
    "import commonmark"
   ]
  },
  {
   "cell_type": "code",
   "execution_count": 141,
   "metadata": {},
   "outputs": [
    {
     "data": {
      "text/plain": [
       "'i’ve been working with cassandra and eventmachine lately, in an attempt to maximize write throughput for bulk loading situations (and i would prefer to not abandon the pretty ruby classes i have fronting cassandra, hence eventmachine rather than hopping over to java or scala).\\n\\nthe thrift client transport for eventmachine requires the use of fibers. the documentation available for how fibers and eventmachine interact is not all that clear just yet, so perhaps documenting my adventures will be of use to somebody else.\\n\\n### a single fiber is traditionally imperative\\n\\neventmachine puts the i/o on background threads, but your use of the i/o interface will interact with it as if it’s a traditional blocking operation.\\n\\n\\n\\nif we were writing a larger number of rows out to cassandra, we could expect to see a greater variety of interleaving between the respective fibers.\\n\\nnote a critical difference between the two examples. in the single-fiber example, we issue the em.stop as the final step of the fiber. because the single fiber proceeds serially, this makes sense. in the multi-fiber example, things run asyncronously, so we have no way of knowing for sure which fiber will complete first. consequently, it’s necessary have some means of signifying that work is done and the em can stop; in this lame example, the @done instance variable acts as this flag. in a more rigorous example, you might use a queue and a queue’s size to organize such things.'"
      ]
     },
     "execution_count": 141,
     "metadata": {},
     "output_type": "execute_result"
    }
   ],
   "source": [
    "re.sub(r'==##==', \"\\n\", re.sub(r'```.*```', '' , re.sub(r'\\n', '==##==', articles['text'][100])))"
   ]
  },
  {
   "cell_type": "code",
   "execution_count": 60,
   "metadata": {},
   "outputs": [
    {
     "name": "stdout",
     "output_type": "stream",
     "text": [
      "\u001b[33mWARNING: The directory '/home/kamil/.cache/pip/http' or its parent directory is not owned by the current user and the cache has been disabled. Please check the permissions and owner of that directory. If executing pip with sudo, you may want sudo's -H flag.\u001b[0m\n",
      "\u001b[33mWARNING: The directory '/home/kamil/.cache/pip' or its parent directory is not owned by the current user and caching wheels has been disabled. check the permissions and owner of that directory. If executing pip with sudo, you may want sudo's -H flag.\u001b[0m\n",
      "Collecting nltk\n",
      "\u001b[?25l  Downloading https://files.pythonhosted.org/packages/8d/5d/825889810b85c303c8559a3fd74d451d80cf3585a851f2103e69576bf583/nltk-3.4.3.zip (1.4MB)\n",
      "\u001b[K     |################################| 1.5MB 648kB/s \n",
      "\u001b[?25hRequirement already satisfied: six in /usr/local/lib/python3.5/dist-packages (from nltk) (1.11.0)\n",
      "Building wheels for collected packages: nltk\n",
      "  Building wheel for nltk (setup.py) ... \u001b[?25ldone\n",
      "\u001b[?25h  Stored in directory: /home/kamil/.cache/pip/wheels/54/40/b7/c56ad418e6cd4d9e1e594b5e138d1ca6eec11a6ee3d464e5bb\n",
      "Successfully built nltk\n",
      "Installing collected packages: nltk\n",
      "Successfully installed nltk-3.4.3\n"
     ]
    }
   ],
   "source": [
    "! pip3 install nltk"
   ]
  },
  {
   "cell_type": "code",
   "execution_count": 64,
   "metadata": {},
   "outputs": [],
   "source": [
    "import nltk"
   ]
  },
  {
   "cell_type": "code",
   "execution_count": 65,
   "metadata": {},
   "outputs": [
    {
     "name": "stderr",
     "output_type": "stream",
     "text": [
      "[nltk_data] Downloading package punkt to /home/kamil/nltk_data...\n",
      "[nltk_data]   Unzipping tokenizers/punkt.zip.\n"
     ]
    },
    {
     "data": {
      "text/plain": [
       "True"
      ]
     },
     "execution_count": 65,
     "metadata": {},
     "output_type": "execute_result"
    }
   ],
   "source": [
    "nltk.download('punkt')"
   ]
  },
  {
   "cell_type": "code",
   "execution_count": 61,
   "metadata": {},
   "outputs": [],
   "source": [
    "from gensim.models.doc2vec import Doc2Vec, TaggedDocument\n",
    "from nltk.tokenize import word_tokenize"
   ]
  },
  {
   "cell_type": "code",
   "execution_count": 147,
   "metadata": {},
   "outputs": [],
   "source": [
    "tagged_data = [TaggedDocument(words=word_tokenize(_d.lower()), tags=[articles['file'][i]]) for i, _d in enumerate(texts)]"
   ]
  },
  {
   "cell_type": "code",
   "execution_count": 148,
   "metadata": {},
   "outputs": [
    {
     "name": "stderr",
     "output_type": "stream",
     "text": [
      "/usr/local/lib/python3.5/dist-packages/gensim/models/doc2vec.py:575: UserWarning: The parameter `size` is deprecated, will be removed in 4.0.0, use `vector_size` instead.\n",
      "  warnings.warn(\"The parameter `size` is deprecated, will be removed in 4.0.0, use `vector_size` instead.\")\n"
     ]
    },
    {
     "name": "stdout",
     "output_type": "stream",
     "text": [
      "iteration 0\n"
     ]
    },
    {
     "name": "stderr",
     "output_type": "stream",
     "text": [
      "/usr/local/lib/python3.5/dist-packages/ipykernel_launcher.py:21: DeprecationWarning: Call to deprecated `iter` (Attribute will be removed in 4.0.0, use self.epochs instead).\n"
     ]
    },
    {
     "name": "stdout",
     "output_type": "stream",
     "text": [
      "iteration 10\n",
      "iteration 20\n",
      "iteration 30\n",
      "iteration 40\n",
      "iteration 50\n",
      "iteration 60\n",
      "iteration 70\n",
      "iteration 80\n",
      "iteration 90\n",
      "Model Saved\n"
     ]
    },
    {
     "name": "stderr",
     "output_type": "stream",
     "text": [
      "/usr/local/lib/python3.5/dist-packages/smart_open/smart_open_lib.py:398: UserWarning: This function is deprecated, use smart_open.open instead. See the migration notes for details: https://github.com/RaRe-Technologies/smart_open/blob/master/README.rst#migrating-to-the-new-open-function\n",
      "  'See the migration notes for details: %s' % _MIGRATION_NOTES_URL\n"
     ]
    }
   ],
   "source": [
    "max_epochs = 100\n",
    "vec_size = 25\n",
    "alpha = 0.025\n",
    "\n",
    "model = Doc2Vec(size=vec_size,\n",
    "                alpha=alpha,\n",
    "                workers=8,\n",
    "                negative=10,\n",
    "                min_alpha=0.00025,\n",
    "                min_count=1,\n",
    "                dm=1)\n",
    "\n",
    "model.build_vocab(tagged_data)\n",
    "\n",
    "for epoch in range(max_epochs):\n",
    "    if epoch % 10 == 0:\n",
    "        print('epoch {0}'.format(epoch))\n",
    "    \n",
    "    model.train(tagged_data,\n",
    "                total_examples=model.corpus_count,\n",
    "                epochs=model.iter)\n",
    "    \n",
    "    # decrease the learning rate\n",
    "    model.alpha -= 0.0002\n",
    "    \n",
    "    # fix the learning rate, no decay\n",
    "    model.min_alpha = model.alpha\n",
    "\n",
    "model.save(\"d2v.model\")\n",
    "print(\"Model Saved\")"
   ]
  },
  {
   "cell_type": "code",
   "execution_count": 149,
   "metadata": {},
   "outputs": [
    {
     "data": {
      "text/plain": [
       "array([ 0.17541057, -0.02235731, -0.05693264, -0.03338872,  0.03174941,\n",
       "        0.08249195,  0.00058757, -0.06981628,  0.01074765,  0.12073613,\n",
       "       -0.11046135,  0.08980961,  0.07043642,  0.0565592 , -0.01546085,\n",
       "       -0.14144687, -0.03312854,  0.00098889, -0.13573258, -0.11351894,\n",
       "        0.10535903, -0.09512035, -0.08990314,  0.01759873,  0.0702279 ],\n",
       "      dtype=float32)"
      ]
     },
     "execution_count": 149,
     "metadata": {},
     "output_type": "execute_result"
    }
   ],
   "source": [
    "model.infer_vector(word_tokenize(\"Ruby is super awesome\".lower()))"
   ]
  },
  {
   "cell_type": "code",
   "execution_count": 150,
   "metadata": {},
   "outputs": [
    {
     "data": {
      "text/plain": [
       "[('2016/04/22/liquid-galaxy-for-real-estate.html.md', 0.8872901201248169),\n",
       " ('2017/07/03/liquid-galaxy-at-2017-boma.html.md', 0.8766101598739624),\n",
       " ('2017/01/25/smartracs-liquid-galaxy-at-national.html.md',\n",
       "  0.8722846508026123),\n",
       " ('2016/01/04/liquid-galaxy-at-new-york-tech-meetup_4.html.md',\n",
       "  0.8693454265594482),\n",
       " ('2017/06/16/successful-first-geoint-symposium-for.html.md',\n",
       "  0.8679709434509277),\n",
       " ('2014/08/22/liquid-galaxy-for-daniel-island-school.html.md',\n",
       "  0.8659971356391907),\n",
       " ('2016/07/21/liquid-galaxy-featured-on-reef-builders.html.md',\n",
       "  0.8644022941589355),\n",
       " ('2017/11/17/president-of-the-un-general-assembly.html.md',\n",
       "  0.8620222806930542),\n",
       " ('2016/04/27/we-are-bigger-than-vr-gear-liquid-galaxy.html.md',\n",
       "  0.8613147139549255),\n",
       " ('2015/11/04/end-pointers-favorite-liquid-galaxy.html.md',\n",
       "  0.8601428270339966)]"
      ]
     },
     "execution_count": 150,
     "metadata": {},
     "output_type": "execute_result"
    }
   ],
   "source": [
    "model.docvecs.most_similar('2019/01/09/liquid-galaxy-at-instituto-moreira-salles.html.md')"
   ]
  },
  {
   "cell_type": "code",
   "execution_count": 151,
   "metadata": {},
   "outputs": [
    {
     "data": {
      "text/plain": [
       "[('2019/05/01/facial-recognition-amazon-deeplens.html.md', 0.8850516080856323),\n",
       " ('2017/05/30/recognizing-handwritten-digits-quick.html.md',\n",
       "  0.8535605072975159),\n",
       " ('2018/10/10/image-recognition-tools.html.md', 0.8495659232139587),\n",
       " ('2018/07/09/training-tesseract-models-from-scratch.html.md',\n",
       "  0.8377258777618408),\n",
       " ('2015/12/18/ros-has-become-pivotal-piece-of.html.md', 0.8344655632972717),\n",
       " ('2013/03/07/streaming-live-with-red5-media.html.md', 0.8181146383285522),\n",
       " ('2012/04/27/streaming-live-with-red5-media-server.html.md',\n",
       "  0.8142604827880859),\n",
       " ('2013/03/15/generating-pdf-documents-in-browser.html.md',\n",
       "  0.7829260230064392),\n",
       " ('2016/05/12/sketchfab-on-liquid-galaxy.html.md', 0.7779937386512756),\n",
       " ('2018/08/29/self-driving-toy-car-using-the-a3c-algorithm.html.md',\n",
       "  0.7659779787063599)]"
      ]
     },
     "execution_count": 151,
     "metadata": {},
     "output_type": "execute_result"
    }
   ],
   "source": [
    "model.docvecs.most_similar('2019/01/08/speech-recognition-with-tensorflow.html.md')"
   ]
  },
  {
   "cell_type": "code",
   "execution_count": 105,
   "metadata": {},
   "outputs": [
    {
     "data": {
      "text/plain": [
       "['data/end-point-blog-master/2010/05/09/tailnmail-does-windows-log-file.html.md',\n",
       " 'data/end-point-blog-master/2018/07/27/meet-the-end-point-windows-consulting-group.html.md',\n",
       " 'data/end-point-blog-master/2013/01/24/create-key-pair-using-ssh-on-windows.html.md',\n",
       " 'data/end-point-blog-master/2008/09/30/64-bit-windows-naming-fun.html.md',\n",
       " 'data/end-point-blog-master/2014/04/30/convert-line-endings-of-mac-and-windows.html.md',\n",
       " 'data/end-point-blog-master/2019/04/04/rails-development-in-windows-10-pro-with-visual-studio-code-and-wsl.html.md',\n",
       " 'data/end-point-blog-master/2019/02/12/where-are-you-with-windows-2019.html.md',\n",
       " 'data/end-point-blog-master/2019/03/22/running-magento-2-windows-xampp.html.md',\n",
       " 'data/end-point-blog-master/2009/07/07/windows-installer-tip-passwords.html.md']"
      ]
     },
     "execution_count": 105,
     "metadata": {},
     "output_type": "execute_result"
    }
   ],
   "source": [
    "pattern = re.compile(\".*windows.*\")\n",
    "[f for f in files if pattern.match(f)]"
   ]
  },
  {
   "cell_type": "code",
   "execution_count": 152,
   "metadata": {},
   "outputs": [
    {
     "data": {
      "text/plain": [
       "[('2016/03/29/a-beginners-guide-to-pci-dss-compliance.html.md',\n",
       "  0.8023568987846375),\n",
       " ('2017/12/20/mam-vs-mdm.html.md', 0.7715965509414673),\n",
       " ('2015/07/24/e-commerce-website-encryption-changes.html.md',\n",
       "  0.7080742120742798),\n",
       " ('2009/05/08/tls-server-name-indication.html.md', 0.6743544340133667),\n",
       " ('2017/08/28/client-case-study-vervante-publishing.html.md',\n",
       "  0.6669783592224121),\n",
       " ('2018/02/13/liquid-galaxy-pyeongchang-olympics.html.md', 0.6641430258750916),\n",
       " ('2015/09/02/liquid-galaxy-and-coral-reefs-of-london.html.md',\n",
       "  0.6618192195892334),\n",
       " ('2017/12/15/symantec-certificate-distrust-certquake.html.md',\n",
       "  0.6563339233398438),\n",
       " ('2015/12/14/ros-platform-upgrades-for-liquid-galaxy.html.md',\n",
       "  0.6545464396476746),\n",
       " ('2012/02/17/world-ipv6-launch-6-june-2012.html.md', 0.6482079029083252)]"
      ]
     },
     "execution_count": 152,
     "metadata": {},
     "output_type": "execute_result"
    }
   ],
   "source": [
    "model.docvecs.most_similar('2019/02/12/where-are-you-with-windows-2019.html.md')"
   ]
  },
  {
   "cell_type": "code",
   "execution_count": 116,
   "metadata": {},
   "outputs": [
    {
     "data": {
      "text/plain": [
       "['data/end-point-blog-master/2012/06/15/when-we-are-not-writing-in-bash-perl.html.md',\n",
       " 'data/end-point-blog-master/2012/10/16/simple-bash-shell-script-for-running.html.md',\n",
       " 'data/end-point-blog-master/2017/05/22/age-comparison-in-bash-for-files-and.html.md',\n",
       " 'data/end-point-blog-master/2016/06/03/adding-bash-completion-to-python-script.html.md',\n",
       " 'data/end-point-blog-master/2016/01/15/breaking-bash.html.md',\n",
       " 'data/end-point-blog-master/2016/12/12/bash-loop-wildcards-nullglob-failglob.html.md']"
      ]
     },
     "execution_count": 116,
     "metadata": {},
     "output_type": "execute_result"
    }
   ],
   "source": [
    "pattern = re.compile(\".*bash.*\")\n",
    "[f for f in files if pattern.match(f)]"
   ]
  },
  {
   "cell_type": "code",
   "execution_count": 153,
   "metadata": {},
   "outputs": [
    {
     "data": {
      "text/plain": [
       "[('2014/03/12/provisioning-development-environment.html.md',\n",
       "  0.8298013806343079),\n",
       " ('2015/04/03/manage-python-script-options.html.md', 0.7975824475288391),\n",
       " ('2012/01/03/automating-removal-of-ssh-key-patterns.html.md',\n",
       "  0.7794561386108398),\n",
       " ('2014/03/14/provisioning-development-environment_14.html.md',\n",
       "  0.7763932943344116),\n",
       " ('2012/04/16/easy-creating-ramdisk-on-ubuntu.html.md', 0.7579266428947449),\n",
       " ('2016/03/03/loading-json-files-into-postgresql-95.html.md',\n",
       "  0.7410352230072021),\n",
       " ('2015/02/06/vim-plugin-spotlight-ctrlp.html.md', 0.7385793924331665),\n",
       " ('2017/10/27/hot-deploy-java-classes-and-assets-in.html.md',\n",
       "  0.7358890771865845),\n",
       " ('2012/03/21/puppet-custom-fact-ruby-plugin.html.md', 0.718029260635376),\n",
       " ('2012/01/14/using-disqus-and-rails.html.md', 0.716759443283081)]"
      ]
     },
     "execution_count": 153,
     "metadata": {},
     "output_type": "execute_result"
    }
   ],
   "source": [
    "model.docvecs.most_similar('2016/06/03/adding-bash-completion-to-python-script.html.md')"
   ]
  },
  {
   "cell_type": "code",
   "execution_count": 154,
   "metadata": {},
   "outputs": [
    {
     "data": {
      "text/plain": [
       "[('2014/09/25/pgxlog-disk-space-problem-on-postgres.html.md',\n",
       "  0.7630457878112793),\n",
       " ('2008/12/08/best-practices-for-cron.html.md', 0.7532925605773926),\n",
       " ('2010/02/23/postgresql-ec2-ebs-raid0-snapshot.html.md', 0.7532622218132019),\n",
       " ('2016/01/15/postgresql-point-in-time-recovery.html.md', 0.7441487312316895),\n",
       " ('2012/10/30/postgresql-autoexplain-module.html.md', 0.7321738600730896),\n",
       " ('2010/07/15/why-is-my-load-average-so-high.html.md', 0.7315724492073059),\n",
       " ('2015/06/17/heroku-dumping-production-database-to.html.md',\n",
       "  0.7272258996963501),\n",
       " ('2013/11/05/selinux-and-need-of-talking-about.html.md', 0.7256261110305786),\n",
       " ('2010/09/27/postgres-configuration-best-practices.html.md',\n",
       "  0.7216442823410034),\n",
       " ('2012/08/30/automatically-kill-process-using-too.html.md',\n",
       "  0.7215427756309509)]"
      ]
     },
     "execution_count": 154,
     "metadata": {},
     "output_type": "execute_result"
    }
   ],
   "source": [
    "model.docvecs.most_similar('2012/10/16/simple-bash-shell-script-for-running.html.md')"
   ]
  },
  {
   "cell_type": "code",
   "execution_count": 6,
   "metadata": {},
   "outputs": [
    {
     "name": "stdout",
     "output_type": "stream",
     "text": [
      "Collecting gitpython\n",
      "\u001b[?25l  Downloading https://files.pythonhosted.org/packages/fe/e5/fafe827507644c32d6dc553a1c435cdf882e0c28918a5bab29f7fbebfb70/GitPython-2.1.11-py2.py3-none-any.whl (448kB)\n",
      "\u001b[K     |████████████████████████████████| 450kB 868kB/s \n",
      "\u001b[?25hCollecting gitdb2>=2.0.0 (from gitpython)\n",
      "\u001b[?25l  Downloading https://files.pythonhosted.org/packages/da/30/a407568aa8d8f25db817cf50121a958722f3fc5f87e3a6fba1f40c0633e3/gitdb2-2.0.5-py2.py3-none-any.whl (62kB)\n",
      "\u001b[K     |████████████████████████████████| 71kB 1.7MB/s \n",
      "\u001b[?25hCollecting smmap2>=2.0.0 (from gitdb2>=2.0.0->gitpython)\n",
      "  Downloading https://files.pythonhosted.org/packages/55/d2/866d45e3a121ee15a1dc013824d58072fd5c7799c9c34d01378eb262ca8f/smmap2-2.0.5-py2.py3-none-any.whl\n",
      "Installing collected packages: smmap2, gitdb2, gitpython\n",
      "Successfully installed gitdb2-2.0.5 gitpython-2.1.11 smmap2-2.0.5\n"
     ]
    }
   ],
   "source": [
    "! pip install gitpython"
   ]
  },
  {
   "cell_type": "code",
   "execution_count": 14,
   "metadata": {},
   "outputs": [],
   "source": [
    "import os"
   ]
  },
  {
   "cell_type": "code",
   "execution_count": 19,
   "metadata": {},
   "outputs": [
    {
     "data": {
      "text/plain": [
       "32768"
      ]
     },
     "execution_count": 19,
     "metadata": {},
     "output_type": "execute_result"
    }
   ],
   "source": [
    "os.system(\"git clone https://github.com/EndPointCorp/end-point-blog.git blog\")"
   ]
  },
  {
   "cell_type": "code",
   "execution_count": 21,
   "metadata": {},
   "outputs": [
    {
     "data": {
      "text/plain": [
       "False"
      ]
     },
     "execution_count": 21,
     "metadata": {},
     "output_type": "execute_result"
    }
   ],
   "source": [
    "'doesntexist' in os.environ"
   ]
  }
 ],
 "metadata": {
  "kernelspec": {
   "display_name": "Python 3",
   "language": "python",
   "name": "python3"
  },
  "language_info": {
   "codemirror_mode": {
    "name": "ipython",
    "version": 3
   },
   "file_extension": ".py",
   "mimetype": "text/x-python",
   "name": "python",
   "nbconvert_exporter": "python",
   "pygments_lexer": "ipython3",
   "version": "3.7.3"
  }
 },
 "nbformat": 4,
 "nbformat_minor": 2
}
